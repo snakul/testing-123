{
 "cells": [
  {
   "cell_type": "markdown",
   "metadata": {},
   "source": [
    "# Broker Selection- Why Not Always Go To The \"Best\" ?\n",
    "\n",
    "For the OTC instruments that are traded over voice, a trader chooses one or two broker from the all available ones to trade with. Someone asked the other day why if we should simply go to the top ranked brokers for every clip. Here I demonstrate why going to our top one or two brokers every time is not the best idea.\n",
    "\n",
    "Let’s start with stating the objective of this exercise- to minimize the total cost of all trades in a day for a given ticker. The demonstration relates to the problem of [N-armed bandit](https://en.wikipedia.org/wiki/Multi-armed_bandit), translated to our language and situation below: \n",
    "\n",
    "*For a given ticker, we have a few clips to execute over the course of the day. For each clip, we have N different brokers to choose from. On choosing any broker, we pay some cost which we assume comes from a stationary pdf. Our objective is to minimize the cost over the day. Now suppose we believe (estimate) that GS has the lowest expected cost and the costs for other brokers are uncertain but close to this value. Which broker should we choose for various clips?*\n",
    "\n",
    "### Exploration vs Exploitation\n",
    "\n",
    "This is the exploration vs exploitation dilemma. We can exploit our knowledge and choose the broker that we believe (estimate) has the lowest expected cost- call this the “greedy action”. An exploration strategy could be that we choose the greedy action most of the time, but choose a random action in ε fraction of cases. This is called a “ε-greedy” strategy.\n",
    "\n",
    "A numerical simulation can shed some light. Let's also explicitly state some major assumptions here:\n",
    "\n",
    "1. Succesive clips are not autocorrelated so you are free to go to the same broker repeatedly without the fear of them skewing away from you.\n",
    "2. Cost for each broker is stationary.\n",
    "3. We have a good way of measuring the realized cost (assumed to be bid-offer plus market impact) of each clip.\n",
    "4. Cost is the only criterion in choosing brokers, implying that the rest of the quality of service is immaterial.\n",
    "\n",
    "## The setup and the variables\n",
    "Assume we have 1000 trades to do, and for each trade we have 10 choices of brokers. The true expected cost of trading with any broker is unknown to us. Lets fix the unknown true expected cost at some random values derived from a std normal distribution.\n",
    "\n",
    "At each step (1000 trades) of a given simulation (2000 simulations), we choose a broker and pay/realize a cost = mean cost for the chosen broker + noise. The noise is a standard normal random variable. I have also declared a noise multiplier which can be changed to see the effect of noise on the performance of a given broker selection strategy as discussed later.\n",
    "\n",
    "I have used vectorization to keep the number of loops in check, but have limited the dimentions of various arrays/dataframes to 2. I hope it makes it easier to keep track of the logic without hampering readability."
   ]
  },
  {
   "cell_type": "code",
   "execution_count": 2,
   "metadata": {},
   "outputs": [
    {
     "ename": "ModuleNotFoundError",
     "evalue": "No module named 'Seaborn'",
     "output_type": "error",
     "traceback": [
      "\u001b[0;31m---------------------------------------------------------------------------\u001b[0m",
      "\u001b[0;31mModuleNotFoundError\u001b[0m                       Traceback (most recent call last)",
      "\u001b[0;32m<ipython-input-2-03c6ffa9d049>\u001b[0m in \u001b[0;36m<module>\u001b[0;34m()\u001b[0m\n\u001b[1;32m      2\u001b[0m \u001b[0;32mimport\u001b[0m \u001b[0mnumpy\u001b[0m \u001b[0;32mas\u001b[0m \u001b[0mnp\u001b[0m\u001b[0;34m\u001b[0m\u001b[0m\n\u001b[1;32m      3\u001b[0m \u001b[0;32mimport\u001b[0m \u001b[0mmatplotlib\u001b[0m\u001b[0;34m.\u001b[0m\u001b[0mpyplot\u001b[0m \u001b[0;32mas\u001b[0m \u001b[0mplt\u001b[0m\u001b[0;34m\u001b[0m\u001b[0m\n\u001b[0;32m----> 4\u001b[0;31m \u001b[0;32mimport\u001b[0m \u001b[0mSeaborn\u001b[0m\u001b[0;34m\u001b[0m\u001b[0m\n\u001b[0m\u001b[1;32m      5\u001b[0m \u001b[0;34m\u001b[0m\u001b[0m\n\u001b[1;32m      6\u001b[0m \u001b[0mnp\u001b[0m\u001b[0;34m.\u001b[0m\u001b[0mrandom\u001b[0m\u001b[0;34m.\u001b[0m\u001b[0mseed\u001b[0m\u001b[0;34m(\u001b[0m\u001b[0;36m0\u001b[0m\u001b[0;34m)\u001b[0m\u001b[0;34m\u001b[0m\u001b[0m\n",
      "\u001b[0;31mModuleNotFoundError\u001b[0m: No module named 'Seaborn'"
     ]
    }
   ],
   "source": [
    "import pandas as pd\n",
    "import numpy as np\n",
    "import matplotlib.pyplot as plt\n",
    "import Seaborn\n",
    "\n",
    "np.random.seed(0)         \n",
    "brokers_n = 10           \n",
    "trades_n = 1000         \n",
    "simulations_n = 2000\n",
    "true_cost_a = np.random.randn(brokers_n, simulations_n)  \n",
    "noise_a = np.random.randn(trades_n, simulations_n)"
   ]
  },
  {
   "cell_type": "markdown",
   "metadata": {},
   "source": [
    "## Simulation function\n",
    "\n",
    "The function below works in accordance with the setup described above. We start with some initial assumption of cost of various brokers, which is same for each broker but can be changed with the variable 'init_est_mult'.\n",
    "\n",
    "Every strategy (every value of ε) maintains an estimate of the expected cost for every broker, which is simply given by the brokers’ in-sample average cost at that point in time. I take average values across simulations of each step (trade) to show how a given strategy can be expected to perform over time."
   ]
  },
  {
   "cell_type": "code",
   "execution_count": null,
   "metadata": {},
   "outputs": [],
   "source": [
    "def run_simulations(epsilons, brokers, simulations, trades, noise_mult=1, init_est_mult=1, y_lim=\"\"):\n",
    "\n",
    "    simulations_a = np.arange(simulations)\n",
    "    noise = noise_mult * noise_a\n",
    "    \n",
    "    for ei, eps in enumerate (epsilons):\n",
    "        \n",
    "        '''need to reset these vars to default before starting the simulation loop for each epsilon'''\n",
    "        bkr_cumcost = np.zeros((brokers, simulations))  # cumulative realized cost till t, for selected brokers in each simulation\n",
    "        bkr_count = np.zeros((brokers, simulations))  # no of times a broker has been selected till t in each simulation\n",
    "        bkr_est = init_est_mult * np.ones ((brokers, simulations))  # time t estimated value of expected cost \n",
    "        rlzd = pd.DataFrame(np.zeros((trades, simulations)))  # realized cost for selected brokers in this trade/timestep\n",
    "\n",
    "        '''simulation loop'''\n",
    "        for t in np.arange(trades):\n",
    "            if t == 0:  # choose a random broker at first step/trade as initial estimates are the same\n",
    "                brokers_now = np.random.randint(0, brokers, simulations)\n",
    "            else:\n",
    "                brokers_now = bkr_est.argmin(0)  # greedy action \n",
    "                throws = np.random.uniform (0, 1, simulations)  # dice throw to select eps proportion of brokers randomly\n",
    "                brokers_now[throws < eps] = np.random.randint (0, brokers, (throws < eps).sum())\n",
    "                \n",
    "            rlzd.iloc[t,:] = true_cost_a[brokers_now, simulations_a] + noise[t,:] # actual cost realized = true expected + noise\n",
    "            \n",
    "            '''update broker cost estimates for the next step/trade'''\n",
    "            bkr_cumcost[brokers_now, simulations_a] = bkr_cumcost[brokers_now, simulations_a] + rlzd.iloc[t,:]\n",
    "            bkr_count[brokers_now, simulations_a] = bkr_count[brokers_now, simulations_a] + 1\n",
    "            bkr_est[brokers_now, simulations_a] = bkr_cumcost[brokers_now, simulations_a] / bkr_count  [brokers_now, simulations_a] \n",
    "            \n",
    "        plt.plot( rlzd.mean(axis = 1), label = eps)\n",
    "        plt.legend( loc = 'best' )\n",
    "        plt.xlabel('Trade Number ->')\n",
    "        plt.ylabel('Average cost over '+ str(simulations) + ' simulations')\n",
    "        if y_lim != \"\":\n",
    "            plt.ylim(ymax = y_lim)\n",
    "    plt.show()"
   ]
  },
  {
   "cell_type": "markdown",
   "metadata": {},
   "source": [
    "Now lets run the simulation, with variables decalred before and a selected list of epsilons. Note that ε=0 corresponds to pure greedy strategy."
   ]
  },
  {
   "cell_type": "code",
   "execution_count": null,
   "metadata": {
    "scrolled": true
   },
   "outputs": [],
   "source": [
    "%matplotlib inline\n",
    "epsilons_a = [0 , 0.01, 0.05, 0.1, 0.15]\n",
    "noise_mult_n = 1     # multiplier to change variation of realized reward \n",
    "init_est_mult_n = 0  # multiplier to change initial cost estimates, explained in the section below\n",
    "run_simulations(epsilons_a, brokers_n, simulations_n, trades_n, noise_mult_n, init_est_mult_n)\n"
   ]
  },
  {
   "cell_type": "markdown",
   "metadata": {},
   "source": [
    "The simulation shows how a given strategy (ε) learns about the relative costs and improves its broker selection over time. Clearly the greedy strategy seems suboptimal in this case as choosing a\n",
    "relatively small value of ε=0.01 increases the learning dramatically. There is a limit to the value added by exploration though with ε=0.05 being close to the best in this case. Both lower and higher\n",
    "values of ε lead to a lower expected reward per step.\n",
    "\n",
    "In the case above, the initial estimates of expected reward were set at zero for each action. Setting the initial estimates at a lower value of -1 changes the result of the simulation."
   ]
  },
  {
   "cell_type": "code",
   "execution_count": null,
   "metadata": {
    "scrolled": true
   },
   "outputs": [],
   "source": [
    "init_est_mult_n = -1\n",
    "run_simulations(epsilons_a, brokers_n, simulations_n, trades_n, noise_mult_n, init_est_mult_n)"
   ]
  },
  {
   "cell_type": "markdown",
   "metadata": {},
   "source": [
    "For clarity, I zoom in and remove ε= 0.01 and 0.15."
   ]
  },
  {
   "cell_type": "code",
   "execution_count": null,
   "metadata": {
    "scrolled": true
   },
   "outputs": [],
   "source": [
    "epsilons_a = [0 , 0.05, 0.1]\n",
    "run_simulations(epsilons_a, brokers_n, simulations_n, trades_n, noise_mult_n, init_est_mult_n, y_lim = -1)"
   ]
  },
  {
   "cell_type": "markdown",
   "metadata": {},
   "source": [
    "Greedy strategy doesn’t seem that bad now. It performs better than ε=0.1 although ε=0.05 still performs the best. What is happening is that a low initial cost estimate forces the greedy strategy to explore more than it otherwise would. This leads to it behave similar to a ε-greedy strategy temporarily as it is unable to find a broker with cost lower than the initial estimate. This temporary exploration enables it to estimate the best brokers better.\n",
    "\n",
    "This leads to the next question- what about the variance of rewards (noise). Intuitively,the effect of noise can be understood by assuming noise = 0. In this case, assuming initial estimates are set relatively low, a greedy action would quickly figure out the best broker due to temporary exploration and stick with that broker later on. ε-greedy strategies would be suboptimal in zero variance case.\n",
    "\n",
    "To see the effect of higher variance, I increase the variance of rewards to 5 from 1 in the previous simulation. Now again the greedy strategy underperforms as seen below. This is because, due to higher variance in rewards, it now takes more exploration to find out the best actions. We have seen that the market impact across brokers tends to be extremely noisy so we should be leaning towards more exploration.\n",
    "\n",
    "In the code below, you can try changing the noise multiplier to 0 and initial estimate multiplier to -2 to check the effect of lower noise as discussed above."
   ]
  },
  {
   "cell_type": "code",
   "execution_count": null,
   "metadata": {},
   "outputs": [],
   "source": [
    "noise_mult_n = 5\n",
    "run_simulations(epsilons_a, brokers_n, simulations_n, trades_n, noise_mult_n, init_est_mult_n)"
   ]
  },
  {
   "cell_type": "markdown",
   "metadata": {},
   "source": [
    "Furthermore, if the costs are non-stationary, as they most likely are in case of brokers, continuous exploration would be needed to keep up with the changing means."
   ]
  }
 ],
 "metadata": {
  "kernelspec": {
   "display_name": "Python 3",
   "language": "python",
   "name": "python3"
  },
  "language_info": {
   "codemirror_mode": {
    "name": "ipython",
    "version": 3
   },
   "file_extension": ".py",
   "mimetype": "text/x-python",
   "name": "python",
   "nbconvert_exporter": "python",
   "pygments_lexer": "ipython3",
   "version": "3.6.2"
  }
 },
 "nbformat": 4,
 "nbformat_minor": 1
}
